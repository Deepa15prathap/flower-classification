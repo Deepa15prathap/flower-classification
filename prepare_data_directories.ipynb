{
 "cells": [
  {
   "cell_type": "markdown",
   "metadata": {},
   "source": [
    "**About this notebook**\n",
    "\n",
    "The purpose of this notebook is to split the flower dataset into training, validation, and test sets, and for each of these, set-up five working directories (one for each of the five flowers).  "
   ]
  },
  {
   "cell_type": "code",
   "execution_count": 1,
   "metadata": {
    "collapsed": true
   },
   "outputs": [],
   "source": [
    "import os, shutil"
   ]
  },
  {
   "cell_type": "markdown",
   "metadata": {},
   "source": [
    "### 1 - Setup working directories"
   ]
  },
  {
   "cell_type": "code",
   "execution_count": 2,
   "metadata": {
    "collapsed": true
   },
   "outputs": [],
   "source": [
    "#where to store your dataset\n",
    "base_dir = '../dataset/flowers'\n",
    "os.mkdir(base_dir)"
   ]
  },
  {
   "cell_type": "markdown",
   "metadata": {},
   "source": [
    "#### - directories for the training, validation, and test splits"
   ]
  },
  {
   "cell_type": "code",
   "execution_count": 3,
   "metadata": {
    "collapsed": true
   },
   "outputs": [],
   "source": [
    "train_dir = os.path.join(base_dir, 'train')\n",
    "os.mkdir(train_dir)\n",
    "validation_dir = os.path.join(base_dir, 'validation')\n",
    "os.mkdir(validation_dir)\n",
    "test_dir = os.path.join(base_dir, 'test')\n",
    "os.mkdir(test_dir)"
   ]
  },
  {
   "cell_type": "markdown",
   "metadata": {},
   "source": [
    "#### - training"
   ]
  },
  {
   "cell_type": "code",
   "execution_count": 4,
   "metadata": {
    "collapsed": true
   },
   "outputs": [],
   "source": [
    "train_daisy_dir = os.path.join(train_dir, 'daisy')\n",
    "os.mkdir(train_daisy_dir)\n",
    "\n",
    "train_dandelion_dir = os.path.join(train_dir, 'dandelion')\n",
    "os.mkdir(train_dandelion_dir)\n",
    "\n",
    "train_roses_dir = os.path.join(train_dir, 'roses')\n",
    "os.mkdir(train_roses_dir)\n",
    "\n",
    "train_sunflowers_dir = os.path.join(train_dir, 'sunflowers')\n",
    "os.mkdir(train_sunflowers_dir)\n",
    "\n",
    "train_tulips_dir = os.path.join(train_dir, 'tulips')\n",
    "os.mkdir(train_tulips_dir)"
   ]
  },
  {
   "cell_type": "markdown",
   "metadata": {},
   "source": [
    "#### - validation"
   ]
  },
  {
   "cell_type": "code",
   "execution_count": 5,
   "metadata": {
    "collapsed": true
   },
   "outputs": [],
   "source": [
    "validation_daisy_dir = os.path.join(validation_dir, 'daisy')\n",
    "os.mkdir(validation_daisy_dir)\n",
    "\n",
    "validation_dandelion_dir = os.path.join(validation_dir, 'dandelion')\n",
    "os.mkdir(validation_dandelion_dir)\n",
    "\n",
    "validation_roses_dir = os.path.join(validation_dir, 'roses')\n",
    "os.mkdir(validation_roses_dir)\n",
    "\n",
    "validation_sunflowers_dir = os.path.join(validation_dir, 'sunflowers')\n",
    "os.mkdir(validation_sunflowers_dir)\n",
    "\n",
    "validation_tulips_dir = os.path.join(validation_dir, 'tulips')\n",
    "os.mkdir(validation_tulips_dir)"
   ]
  },
  {
   "cell_type": "markdown",
   "metadata": {},
   "source": [
    "#### - test"
   ]
  },
  {
   "cell_type": "code",
   "execution_count": 6,
   "metadata": {
    "collapsed": true
   },
   "outputs": [],
   "source": [
    "#directory with test cat, dog pictures\n",
    "test_daisy_dir = os.path.join(test_dir, 'daisy')\n",
    "os.mkdir(test_daisy_dir)\n",
    "\n",
    "test_dandelion_dir = os.path.join(test_dir, 'dandelion')\n",
    "os.mkdir(test_dandelion_dir)\n",
    "\n",
    "test_roses_dir = os.path.join(test_dir, 'roses')\n",
    "os.mkdir(test_roses_dir)\n",
    "\n",
    "test_sunflowers_dir = os.path.join(test_dir, 'sunflowers')\n",
    "os.mkdir(test_sunflowers_dir)\n",
    "\n",
    "test_tulips_dir = os.path.join(test_dir, 'tulips')\n",
    "os.mkdir(test_tulips_dir)"
   ]
  },
  {
   "cell_type": "markdown",
   "metadata": {},
   "source": [
    "### 2 - Transfer downloaded images to working directories"
   ]
  },
  {
   "cell_type": "code",
   "execution_count": 7,
   "metadata": {
    "collapsed": true
   },
   "outputs": [],
   "source": [
    "import numpy as np\n",
    "from random import shuffle"
   ]
  },
  {
   "cell_type": "code",
   "execution_count": 8,
   "metadata": {
    "collapsed": true
   },
   "outputs": [],
   "source": [
    "orig_dir = '../datasets/flowers/flower_photos'\n",
    "\n",
    "for flower in ['daisy', 'dandelion', 'roses', 'sunflowers', 'tulips']:\n",
    "\n",
    "    path = os.path.join(orig_dir, flower)\n",
    "    flower_list = [files for _,__,files in os.walk(path)]\n",
    "\n",
    "    #split into train, validation, and test sets (70%, 20%, 10%)\n",
    "    #number of photos per set\n",
    "    n_train, n_validation = int(0.7*len(flower_list[0])), int(0.2*len(flower_list[0]))\n",
    "    n_test = len(flower_list[0]) - n_train - n_validation\n",
    "    \n",
    "    #assign photos to respective sets\n",
    "    shuffle(flower_list[0])\n",
    "    train = flower_list[0][:n_train]\n",
    "    validation = flower_list[0][n_train: n_train + n_validation]\n",
    "    test = flower_list[0][n_train + n_validation:]    \n",
    "\n",
    "    #destination directories for the training, validation, and test splits\n",
    "    train_dir_flower = os.path.join(train_dir, flower)\n",
    "    validation_dir_flower = os.path.join(validation_dir, flower)\n",
    "    test_dir_flower = os.path.join(test_dir, flower)\n",
    " \n",
    "    for fname in train:\n",
    "        src = os.path.join(path, fname)\n",
    "        dst = os.path.join(train_dir_flower, fname)\n",
    "        shutil.copyfile(src, dst)    \n",
    "    \n",
    "    for fname in validation:\n",
    "        src = os.path.join(path, fname)\n",
    "        dst = os.path.join(validation_dir_flower, fname)\n",
    "        shutil.copyfile(src, dst)\n",
    "        \n",
    "    for fname in test:\n",
    "        src = os.path.join(path, fname)\n",
    "        dst = os.path.join(test_dir_flower, fname)\n",
    "        shutil.copyfile(src, dst)    "
   ]
  },
  {
   "cell_type": "markdown",
   "metadata": {
    "collapsed": true
   },
   "source": [
    "### 3 - Check number of pictures "
   ]
  },
  {
   "cell_type": "code",
   "execution_count": 9,
   "metadata": {},
   "outputs": [
    {
     "name": "stdout",
     "output_type": "stream",
     "text": [
      "total training tulips images: 559\n",
      "total validation tulips images: 159\n",
      "total test tulips images: 81\n"
     ]
    }
   ],
   "source": [
    "print('total training tulips images:', len(os.listdir(train_dir_flower))) \n",
    "print('total validation tulips images:', len(os.listdir(validation_dir_flower))) \n",
    "print('total test tulips images:', len(os.listdir(test_dir_flower)))  "
   ]
  }
 ],
 "metadata": {
  "kernelspec": {
   "display_name": "Python 3",
   "language": "python",
   "name": "python3"
  },
  "language_info": {
   "codemirror_mode": {
    "name": "ipython",
    "version": 3
   },
   "file_extension": ".py",
   "mimetype": "text/x-python",
   "name": "python",
   "nbconvert_exporter": "python",
   "pygments_lexer": "ipython3",
   "version": "3.6.2"
  }
 },
 "nbformat": 4,
 "nbformat_minor": 2
}
