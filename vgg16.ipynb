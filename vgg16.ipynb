{
 "cells": [
  {
   "cell_type": "markdown",
   "metadata": {},
   "source": [
    "**About this notebook**\n",
    "\n",
    "This notebook fine-tunes the VGG16 model.  The codes were largely based on Chapter 5 of this book:\n",
    "\n",
    "https://www.manning.com/books/deep-learning-with-python"
   ]
  },
  {
   "cell_type": "markdown",
   "metadata": {},
   "source": [
    "### - create batches of augmented images"
   ]
  },
  {
   "cell_type": "code",
   "execution_count": 16,
   "metadata": {},
   "outputs": [
    {
     "name": "stdout",
     "output_type": "stream",
     "text": [
      "Found 2567 images belonging to 5 classes.\n",
      "Found 731 images belonging to 5 classes.\n"
     ]
    }
   ],
   "source": [
    "from keras.preprocessing.image import ImageDataGenerator\n",
    "from keras import optimizers\n",
    "\n",
    "train_datagen = ImageDataGenerator(\n",
    "      rescale=1./255,\n",
    "      rotation_range=40,\n",
    "      width_shift_range=0.2,\n",
    "      height_shift_range=0.2,\n",
    "      shear_range=0.2,\n",
    "      zoom_range=0.2,\n",
    "      horizontal_flip=True,\n",
    "      fill_mode='nearest')\n",
    "\n",
    "#validation data should not be augmented\n",
    "test_datagen = ImageDataGenerator(rescale=1./255)\n",
    "\n",
    "train_generator = train_datagen.flow_from_directory(\n",
    "    train_dir,\n",
    "    target_size=(224, 224),\n",
    "    batch_size=32,\n",
    "    class_mode='categorical')\n",
    "\n",
    "validation_generator = test_datagen.flow_from_directory(\n",
    "        validation_dir,\n",
    "        target_size=(224, 224),\n",
    "        batch_size=32,\n",
    "        class_mode='categorical')"
   ]
  },
  {
   "cell_type": "markdown",
   "metadata": {},
   "source": [
    "### - download pre-trained  VGG16 model"
   ]
  },
  {
   "cell_type": "code",
   "execution_count": 22,
   "metadata": {
    "collapsed": true
   },
   "outputs": [],
   "source": [
    "from keras.applications import VGG16\n",
    "conv_base = VGG16(weights='imagenet',\n",
    "                  include_top=False,\n",
    "                  input_shape=(224, 224, 3))"
   ]
  },
  {
   "cell_type": "code",
   "execution_count": 23,
   "metadata": {},
   "outputs": [
    {
     "name": "stdout",
     "output_type": "stream",
     "text": [
      "_________________________________________________________________\n",
      "Layer (type)                 Output Shape              Param #   \n",
      "=================================================================\n",
      "input_3 (InputLayer)         (None, 224, 224, 3)       0         \n",
      "_________________________________________________________________\n",
      "block1_conv1 (Conv2D)        (None, 224, 224, 64)      1792      \n",
      "_________________________________________________________________\n",
      "block1_conv2 (Conv2D)        (None, 224, 224, 64)      36928     \n",
      "_________________________________________________________________\n",
      "block1_pool (MaxPooling2D)   (None, 112, 112, 64)      0         \n",
      "_________________________________________________________________\n",
      "block2_conv1 (Conv2D)        (None, 112, 112, 128)     73856     \n",
      "_________________________________________________________________\n",
      "block2_conv2 (Conv2D)        (None, 112, 112, 128)     147584    \n",
      "_________________________________________________________________\n",
      "block2_pool (MaxPooling2D)   (None, 56, 56, 128)       0         \n",
      "_________________________________________________________________\n",
      "block3_conv1 (Conv2D)        (None, 56, 56, 256)       295168    \n",
      "_________________________________________________________________\n",
      "block3_conv2 (Conv2D)        (None, 56, 56, 256)       590080    \n",
      "_________________________________________________________________\n",
      "block3_conv3 (Conv2D)        (None, 56, 56, 256)       590080    \n",
      "_________________________________________________________________\n",
      "block3_pool (MaxPooling2D)   (None, 28, 28, 256)       0         \n",
      "_________________________________________________________________\n",
      "block4_conv1 (Conv2D)        (None, 28, 28, 512)       1180160   \n",
      "_________________________________________________________________\n",
      "block4_conv2 (Conv2D)        (None, 28, 28, 512)       2359808   \n",
      "_________________________________________________________________\n",
      "block4_conv3 (Conv2D)        (None, 28, 28, 512)       2359808   \n",
      "_________________________________________________________________\n",
      "block4_pool (MaxPooling2D)   (None, 14, 14, 512)       0         \n",
      "_________________________________________________________________\n",
      "block5_conv1 (Conv2D)        (None, 14, 14, 512)       2359808   \n",
      "_________________________________________________________________\n",
      "block5_conv2 (Conv2D)        (None, 14, 14, 512)       2359808   \n",
      "_________________________________________________________________\n",
      "block5_conv3 (Conv2D)        (None, 14, 14, 512)       2359808   \n",
      "_________________________________________________________________\n",
      "block5_pool (MaxPooling2D)   (None, 7, 7, 512)         0         \n",
      "=================================================================\n",
      "Total params: 14,714,688\n",
      "Trainable params: 14,714,688\n",
      "Non-trainable params: 0\n",
      "_________________________________________________________________\n"
     ]
    }
   ],
   "source": [
    "conv_base.summary()"
   ]
  },
  {
   "cell_type": "code",
   "execution_count": 24,
   "metadata": {
    "collapsed": true
   },
   "outputs": [],
   "source": [
    "from keras import models\n",
    "from keras import layers\n",
    "from keras import optimizers\n",
    "\n",
    "model = models.Sequential()\n",
    "\n",
    "model.add(conv_base)\n",
    "model.add(layers.Flatten())\n",
    "model.add(layers.Dense(256, activation='relu'))\n",
    "model.add(layers.Dense(5, activation='softmax'))"
   ]
  },
  {
   "cell_type": "code",
   "execution_count": 25,
   "metadata": {},
   "outputs": [
    {
     "name": "stdout",
     "output_type": "stream",
     "text": [
      "_________________________________________________________________\n",
      "Layer (type)                 Output Shape              Param #   \n",
      "=================================================================\n",
      "vgg16 (Model)                (None, 7, 7, 512)         14714688  \n",
      "_________________________________________________________________\n",
      "flatten_2 (Flatten)          (None, 25088)             0         \n",
      "_________________________________________________________________\n",
      "dense_5 (Dense)              (None, 256)               6422784   \n",
      "_________________________________________________________________\n",
      "dense_6 (Dense)              (None, 5)                 1285      \n",
      "=================================================================\n",
      "Total params: 21,138,757\n",
      "Trainable params: 21,138,757\n",
      "Non-trainable params: 0\n",
      "_________________________________________________________________\n"
     ]
    }
   ],
   "source": [
    "model.summary()"
   ]
  },
  {
   "cell_type": "markdown",
   "metadata": {},
   "source": [
    "### - freeze layers and set specific ones for training"
   ]
  },
  {
   "cell_type": "code",
   "execution_count": 26,
   "metadata": {
    "collapsed": true
   },
   "outputs": [],
   "source": [
    "conv_base.trainable = True\n",
    "set_trainable = False\n",
    "for layer in conv_base.layers:\n",
    "    if layer.name == 'block5_conv1':\n",
    "        set_trainable = True\n",
    "    if set_trainable:\n",
    "        layer.trainable = True\n",
    "    else:\n",
    "        layer.trainable = False"
   ]
  },
  {
   "cell_type": "code",
   "execution_count": 27,
   "metadata": {
    "collapsed": true
   },
   "outputs": [],
   "source": [
    "model.compile(loss='categorical_crossentropy',\n",
    "                      optimizer=optimizers.Adam(lr=1e-5),\n",
    "                      metrics=['acc'])"
   ]
  },
  {
   "cell_type": "code",
   "execution_count": 28,
   "metadata": {
    "scrolled": false
   },
   "outputs": [
    {
     "name": "stdout",
     "output_type": "stream",
     "text": [
      "Epoch 1/100\n",
      "81/81 [==============================] - 45s 550ms/step - loss: 1.2485 - acc: 0.4945 - val_loss: 0.7769 - val_acc: 0.7250\n",
      "Epoch 2/100\n",
      "81/81 [==============================] - 40s 497ms/step - loss: 0.7218 - acc: 0.7287 - val_loss: 0.5746 - val_acc: 0.7921\n",
      "Epoch 3/100\n",
      "81/81 [==============================] - 40s 496ms/step - loss: 0.5700 - acc: 0.7851 - val_loss: 0.4730 - val_acc: 0.8331\n",
      "Epoch 4/100\n",
      "81/81 [==============================] - 40s 494ms/step - loss: 0.4654 - acc: 0.8310 - val_loss: 0.4070 - val_acc: 0.8646\n",
      "Epoch 5/100\n",
      "81/81 [==============================] - 40s 498ms/step - loss: 0.4199 - acc: 0.8402 - val_loss: 0.3912 - val_acc: 0.8700\n",
      "Epoch 6/100\n",
      "81/81 [==============================] - 41s 510ms/step - loss: 0.3865 - acc: 0.8588 - val_loss: 0.4057 - val_acc: 0.8673\n",
      "Epoch 7/100\n",
      "81/81 [==============================] - 40s 494ms/step - loss: 0.3586 - acc: 0.8650 - val_loss: 0.3495 - val_acc: 0.8892\n",
      "Epoch 8/100\n",
      "81/81 [==============================] - 40s 495ms/step - loss: 0.3296 - acc: 0.8771 - val_loss: 0.3430 - val_acc: 0.8933\n",
      "Epoch 9/100\n",
      "81/81 [==============================] - 40s 495ms/step - loss: 0.3023 - acc: 0.8885 - val_loss: 0.3206 - val_acc: 0.8974\n",
      "Epoch 10/100\n",
      "81/81 [==============================] - 40s 495ms/step - loss: 0.2814 - acc: 0.8970 - val_loss: 0.3303 - val_acc: 0.8947\n",
      "Epoch 11/100\n",
      "81/81 [==============================] - 40s 498ms/step - loss: 0.2586 - acc: 0.9047 - val_loss: 0.3326 - val_acc: 0.8933\n",
      "Epoch 12/100\n",
      "81/81 [==============================] - 40s 493ms/step - loss: 0.2362 - acc: 0.9167 - val_loss: 0.3102 - val_acc: 0.9029\n",
      "Epoch 13/100\n",
      "81/81 [==============================] - 40s 493ms/step - loss: 0.2339 - acc: 0.9141 - val_loss: 0.3065 - val_acc: 0.9001\n",
      "Epoch 14/100\n",
      "81/81 [==============================] - 40s 493ms/step - loss: 0.2174 - acc: 0.9294 - val_loss: 0.3095 - val_acc: 0.9042\n",
      "Epoch 15/100\n",
      "81/81 [==============================] - 40s 498ms/step - loss: 0.2003 - acc: 0.9302 - val_loss: 0.2752 - val_acc: 0.9152\n",
      "Epoch 16/100\n",
      "81/81 [==============================] - 40s 492ms/step - loss: 0.2070 - acc: 0.9275 - val_loss: 0.3043 - val_acc: 0.9029\n",
      "Epoch 17/100\n",
      "81/81 [==============================] - 40s 495ms/step - loss: 0.1867 - acc: 0.9325 - val_loss: 0.2921 - val_acc: 0.9152\n",
      "Epoch 18/100\n",
      "81/81 [==============================] - 41s 503ms/step - loss: 0.1699 - acc: 0.9371 - val_loss: 0.3220 - val_acc: 0.8988\n",
      "Epoch 19/100\n",
      "81/81 [==============================] - 40s 495ms/step - loss: 0.1557 - acc: 0.9460 - val_loss: 0.3448 - val_acc: 0.8906\n",
      "Epoch 20/100\n",
      "81/81 [==============================] - 40s 493ms/step - loss: 0.1575 - acc: 0.9444 - val_loss: 0.2720 - val_acc: 0.9179\n",
      "Epoch 21/100\n",
      "81/81 [==============================] - 40s 497ms/step - loss: 0.1564 - acc: 0.9415 - val_loss: 0.3227 - val_acc: 0.8960\n",
      "Epoch 22/100\n",
      "81/81 [==============================] - 40s 497ms/step - loss: 0.1213 - acc: 0.9603 - val_loss: 0.3013 - val_acc: 0.9042\n",
      "Epoch 23/100\n",
      "81/81 [==============================] - 40s 495ms/step - loss: 0.1335 - acc: 0.9527 - val_loss: 0.2809 - val_acc: 0.9207\n",
      "Epoch 24/100\n",
      "81/81 [==============================] - 40s 494ms/step - loss: 0.1325 - acc: 0.9522 - val_loss: 0.2744 - val_acc: 0.9166\n",
      "Epoch 25/100\n",
      "81/81 [==============================] - 40s 492ms/step - loss: 0.1194 - acc: 0.9576 - val_loss: 0.3156 - val_acc: 0.9015\n",
      "Epoch 26/100\n",
      "81/81 [==============================] - 40s 493ms/step - loss: 0.1194 - acc: 0.9566 - val_loss: 0.2957 - val_acc: 0.9152\n",
      "Epoch 27/100\n",
      "81/81 [==============================] - 40s 498ms/step - loss: 0.1070 - acc: 0.9630 - val_loss: 0.3011 - val_acc: 0.9097\n",
      "Epoch 28/100\n",
      "81/81 [==============================] - 40s 493ms/step - loss: 0.1125 - acc: 0.9583 - val_loss: 0.3234 - val_acc: 0.9042\n",
      "Epoch 29/100\n",
      "81/81 [==============================] - 40s 491ms/step - loss: 0.0869 - acc: 0.9745 - val_loss: 0.3274 - val_acc: 0.9083\n",
      "Epoch 30/100\n",
      "81/81 [==============================] - 40s 491ms/step - loss: 0.1066 - acc: 0.9664 - val_loss: 0.3022 - val_acc: 0.9097\n",
      "Epoch 31/100\n",
      "81/81 [==============================] - 41s 501ms/step - loss: 0.0858 - acc: 0.9738 - val_loss: 0.2987 - val_acc: 0.9152\n",
      "Epoch 32/100\n",
      "81/81 [==============================] - 40s 495ms/step - loss: 0.0706 - acc: 0.9745 - val_loss: 0.3171 - val_acc: 0.9056\n",
      "Epoch 33/100\n",
      "81/81 [==============================] - 40s 494ms/step - loss: 0.0758 - acc: 0.9753 - val_loss: 0.3104 - val_acc: 0.9042\n",
      "Epoch 34/100\n",
      "81/81 [==============================] - 40s 495ms/step - loss: 0.0809 - acc: 0.9714 - val_loss: 0.3639 - val_acc: 0.8947\n",
      "Epoch 35/100\n",
      "81/81 [==============================] - 40s 497ms/step - loss: 0.0667 - acc: 0.9796 - val_loss: 0.3028 - val_acc: 0.9111\n",
      "Epoch 36/100\n",
      "81/81 [==============================] - 40s 493ms/step - loss: 0.0726 - acc: 0.9728 - val_loss: 0.3384 - val_acc: 0.9070\n",
      "Epoch 37/100\n",
      "81/81 [==============================] - 40s 499ms/step - loss: 0.0699 - acc: 0.9759 - val_loss: 0.2901 - val_acc: 0.9111\n",
      "Epoch 38/100\n",
      "81/81 [==============================] - 40s 495ms/step - loss: 0.0658 - acc: 0.9811 - val_loss: 0.3006 - val_acc: 0.9138\n",
      "Epoch 39/100\n",
      "81/81 [==============================] - 40s 495ms/step - loss: 0.0633 - acc: 0.9799 - val_loss: 0.3253 - val_acc: 0.9111\n",
      "Epoch 40/100\n",
      "81/81 [==============================] - 40s 495ms/step - loss: 0.0490 - acc: 0.9857 - val_loss: 0.3574 - val_acc: 0.9015\n",
      "Epoch 41/100\n",
      "81/81 [==============================] - 40s 499ms/step - loss: 0.0605 - acc: 0.9774 - val_loss: 0.2997 - val_acc: 0.9248\n",
      "Epoch 42/100\n",
      "81/81 [==============================] - 40s 495ms/step - loss: 0.0494 - acc: 0.9850 - val_loss: 0.3203 - val_acc: 0.9138\n",
      "Epoch 43/100\n",
      "81/81 [==============================] - 40s 498ms/step - loss: 0.0619 - acc: 0.9784 - val_loss: 0.3222 - val_acc: 0.9124\n",
      "Epoch 44/100\n",
      "81/81 [==============================] - 40s 492ms/step - loss: 0.0633 - acc: 0.9790 - val_loss: 0.3149 - val_acc: 0.9207\n",
      "Epoch 45/100\n",
      "81/81 [==============================] - 40s 491ms/step - loss: 0.0416 - acc: 0.9915 - val_loss: 0.3348 - val_acc: 0.9097\n",
      "Epoch 46/100\n",
      "81/81 [==============================] - 40s 492ms/step - loss: 0.0530 - acc: 0.9807 - val_loss: 0.3360 - val_acc: 0.9124\n",
      "Epoch 47/100\n",
      "81/81 [==============================] - 40s 495ms/step - loss: 0.0576 - acc: 0.9805 - val_loss: 0.3673 - val_acc: 0.9124\n",
      "Epoch 48/100\n",
      "81/81 [==============================] - 40s 489ms/step - loss: 0.0360 - acc: 0.9904 - val_loss: 0.3583 - val_acc: 0.9070\n",
      "Epoch 49/100\n",
      "81/81 [==============================] - 40s 490ms/step - loss: 0.0413 - acc: 0.9859 - val_loss: 0.4180 - val_acc: 0.8851\n",
      "Epoch 50/100\n",
      "81/81 [==============================] - 40s 492ms/step - loss: 0.0347 - acc: 0.9880 - val_loss: 0.3534 - val_acc: 0.9138\n",
      "Epoch 51/100\n",
      "81/81 [==============================] - 40s 490ms/step - loss: 0.0414 - acc: 0.9853 - val_loss: 0.3169 - val_acc: 0.9179\n",
      "Epoch 52/100\n",
      "81/81 [==============================] - 40s 489ms/step - loss: 0.0345 - acc: 0.9888 - val_loss: 0.3999 - val_acc: 0.8974\n",
      "Epoch 53/100\n",
      "81/81 [==============================] - 40s 489ms/step - loss: 0.0484 - acc: 0.9826 - val_loss: 0.3675 - val_acc: 0.9111\n",
      "Epoch 54/100\n",
      "81/81 [==============================] - 40s 490ms/step - loss: 0.0421 - acc: 0.9884 - val_loss: 0.3112 - val_acc: 0.9152\n",
      "Epoch 55/100\n",
      "81/81 [==============================] - 40s 494ms/step - loss: 0.0302 - acc: 0.9892 - val_loss: 0.3244 - val_acc: 0.9234\n",
      "Epoch 56/100\n",
      "81/81 [==============================] - 40s 493ms/step - loss: 0.0414 - acc: 0.9873 - val_loss: 0.3030 - val_acc: 0.9289\n",
      "Epoch 57/100\n",
      "81/81 [==============================] - 40s 497ms/step - loss: 0.0290 - acc: 0.9907 - val_loss: 0.3197 - val_acc: 0.9261\n",
      "Epoch 58/100\n",
      "81/81 [==============================] - 40s 497ms/step - loss: 0.0417 - acc: 0.9865 - val_loss: 0.3593 - val_acc: 0.9124\n",
      "Epoch 59/100\n",
      "81/81 [==============================] - 40s 494ms/step - loss: 0.0367 - acc: 0.9865 - val_loss: 0.3445 - val_acc: 0.9152\n",
      "Epoch 60/100\n",
      "81/81 [==============================] - 40s 496ms/step - loss: 0.0374 - acc: 0.9873 - val_loss: 0.4175 - val_acc: 0.9042\n",
      "Epoch 61/100\n",
      "81/81 [==============================] - 40s 498ms/step - loss: 0.0368 - acc: 0.9865 - val_loss: 0.3958 - val_acc: 0.9029\n"
     ]
    },
    {
     "name": "stdout",
     "output_type": "stream",
     "text": [
      "Epoch 62/100\n",
      "81/81 [==============================] - 40s 495ms/step - loss: 0.0328 - acc: 0.9900 - val_loss: 0.3376 - val_acc: 0.9124\n",
      "Epoch 63/100\n",
      "81/81 [==============================] - 41s 501ms/step - loss: 0.0232 - acc: 0.9934 - val_loss: 0.3502 - val_acc: 0.9166\n",
      "Epoch 64/100\n",
      "81/81 [==============================] - 41s 502ms/step - loss: 0.0169 - acc: 0.9969 - val_loss: 0.3450 - val_acc: 0.9234\n",
      "Epoch 65/100\n",
      "81/81 [==============================] - 40s 495ms/step - loss: 0.0256 - acc: 0.9907 - val_loss: 0.3637 - val_acc: 0.9124\n",
      "Epoch 66/100\n",
      "81/81 [==============================] - 41s 502ms/step - loss: 0.0207 - acc: 0.9938 - val_loss: 0.3237 - val_acc: 0.9138\n",
      "Epoch 67/100\n",
      "81/81 [==============================] - 41s 502ms/step - loss: 0.0296 - acc: 0.9915 - val_loss: 0.3876 - val_acc: 0.9029\n",
      "Epoch 68/100\n",
      "81/81 [==============================] - 41s 501ms/step - loss: 0.0176 - acc: 0.9969 - val_loss: 0.4035 - val_acc: 0.9042\n",
      "Epoch 69/100\n",
      "81/81 [==============================] - 40s 498ms/step - loss: 0.0284 - acc: 0.9919 - val_loss: 0.4049 - val_acc: 0.9097\n",
      "Epoch 70/100\n",
      "81/81 [==============================] - 40s 496ms/step - loss: 0.0215 - acc: 0.9923 - val_loss: 0.3778 - val_acc: 0.9166\n",
      "Epoch 71/100\n",
      "81/81 [==============================] - 41s 501ms/step - loss: 0.0152 - acc: 0.9958 - val_loss: 0.3926 - val_acc: 0.9138\n",
      "Epoch 72/100\n",
      "81/81 [==============================] - 40s 497ms/step - loss: 0.0360 - acc: 0.9869 - val_loss: 0.3199 - val_acc: 0.9275\n",
      "Epoch 73/100\n",
      "81/81 [==============================] - 41s 504ms/step - loss: 0.0341 - acc: 0.9877 - val_loss: 0.4157 - val_acc: 0.8974\n",
      "Epoch 74/100\n",
      "81/81 [==============================] - 41s 504ms/step - loss: 0.0300 - acc: 0.9896 - val_loss: 0.3589 - val_acc: 0.9166\n",
      "Epoch 75/100\n",
      "81/81 [==============================] - 41s 501ms/step - loss: 0.0183 - acc: 0.9958 - val_loss: 0.3621 - val_acc: 0.9166\n",
      "Epoch 76/100\n",
      "81/81 [==============================] - 41s 505ms/step - loss: 0.0196 - acc: 0.9938 - val_loss: 0.3584 - val_acc: 0.9166\n",
      "Epoch 77/100\n",
      "81/81 [==============================] - 40s 500ms/step - loss: 0.0250 - acc: 0.9934 - val_loss: 0.3479 - val_acc: 0.9166\n",
      "Epoch 78/100\n",
      "81/81 [==============================] - 40s 495ms/step - loss: 0.0190 - acc: 0.9950 - val_loss: 0.3844 - val_acc: 0.9029\n",
      "Epoch 79/100\n",
      "81/81 [==============================] - 40s 496ms/step - loss: 0.0251 - acc: 0.9911 - val_loss: 0.4189 - val_acc: 0.9124\n",
      "Epoch 80/100\n",
      "81/81 [==============================] - 40s 495ms/step - loss: 0.0295 - acc: 0.9915 - val_loss: 0.3249 - val_acc: 0.9220\n",
      "Epoch 81/100\n",
      "81/81 [==============================] - 40s 498ms/step - loss: 0.0211 - acc: 0.9923 - val_loss: 0.4224 - val_acc: 0.9070\n",
      "Epoch 82/100\n",
      "81/81 [==============================] - 40s 494ms/step - loss: 0.0203 - acc: 0.9938 - val_loss: 0.3154 - val_acc: 0.9193\n",
      "Epoch 83/100\n",
      "81/81 [==============================] - 40s 497ms/step - loss: 0.0238 - acc: 0.9904 - val_loss: 0.3276 - val_acc: 0.9261\n",
      "Epoch 84/100\n",
      "81/81 [==============================] - 40s 496ms/step - loss: 0.0210 - acc: 0.9942 - val_loss: 0.3262 - val_acc: 0.9248\n",
      "Epoch 85/100\n",
      "81/81 [==============================] - 40s 495ms/step - loss: 0.0131 - acc: 0.9958 - val_loss: 0.3517 - val_acc: 0.9152\n",
      "Epoch 86/100\n",
      "81/81 [==============================] - 40s 494ms/step - loss: 0.0101 - acc: 0.9985 - val_loss: 0.4516 - val_acc: 0.9124\n",
      "Epoch 87/100\n",
      "81/81 [==============================] - 40s 498ms/step - loss: 0.0267 - acc: 0.9931 - val_loss: 0.3303 - val_acc: 0.9302\n",
      "Epoch 88/100\n",
      "81/81 [==============================] - 40s 498ms/step - loss: 0.0214 - acc: 0.9934 - val_loss: 0.3261 - val_acc: 0.9330\n",
      "Epoch 89/100\n",
      "81/81 [==============================] - 40s 498ms/step - loss: 0.0075 - acc: 0.9996 - val_loss: 0.3395 - val_acc: 0.9289\n",
      "Epoch 90/100\n",
      "81/81 [==============================] - 40s 495ms/step - loss: 0.0189 - acc: 0.9952 - val_loss: 0.3989 - val_acc: 0.9179\n",
      "Epoch 91/100\n",
      "81/81 [==============================] - 41s 502ms/step - loss: 0.0306 - acc: 0.9907 - val_loss: 0.4493 - val_acc: 0.8974\n",
      "Epoch 92/100\n",
      "81/81 [==============================] - 40s 497ms/step - loss: 0.0202 - acc: 0.9958 - val_loss: 0.3891 - val_acc: 0.9029\n",
      "Epoch 93/100\n",
      "81/81 [==============================] - 40s 500ms/step - loss: 0.0173 - acc: 0.9958 - val_loss: 0.3648 - val_acc: 0.9097\n",
      "Epoch 94/100\n",
      "81/81 [==============================] - 40s 500ms/step - loss: 0.0239 - acc: 0.9934 - val_loss: 0.3277 - val_acc: 0.9152\n",
      "Epoch 95/100\n",
      "81/81 [==============================] - 40s 498ms/step - loss: 0.0104 - acc: 0.9977 - val_loss: 0.3918 - val_acc: 0.9111\n",
      "Epoch 96/100\n",
      "81/81 [==============================] - 40s 495ms/step - loss: 0.0151 - acc: 0.9965 - val_loss: 0.6370 - val_acc: 0.8769\n",
      "Epoch 97/100\n",
      "81/81 [==============================] - 40s 500ms/step - loss: 0.0195 - acc: 0.9934 - val_loss: 0.3772 - val_acc: 0.9193\n",
      "Epoch 98/100\n",
      "81/81 [==============================] - 40s 497ms/step - loss: 0.0181 - acc: 0.9942 - val_loss: 0.3411 - val_acc: 0.9302\n",
      "Epoch 99/100\n",
      "81/81 [==============================] - 40s 496ms/step - loss: 0.0086 - acc: 0.9965 - val_loss: 0.3351 - val_acc: 0.9220\n",
      "Epoch 100/100\n",
      "81/81 [==============================] - 41s 501ms/step - loss: 0.0122 - acc: 0.9965 - val_loss: 0.3793 - val_acc: 0.9220\n"
     ]
    }
   ],
   "source": [
    "history = model.fit_generator(\n",
    "              train_generator,\n",
    "              steps_per_epoch=81,\n",
    "              epochs=100,\n",
    "              validation_data=validation_generator,\n",
    "              validation_steps=23)"
   ]
  },
  {
   "cell_type": "markdown",
   "metadata": {},
   "source": [
    "### - smooth the plots"
   ]
  },
  {
   "cell_type": "code",
   "execution_count": 29,
   "metadata": {},
   "outputs": [
    {
     "data": {
      "image/png": "[encoded data removed]",
      "text/plain": [
       "<Figure size 432x288 with 1 Axes>"
      ]
     },
     "metadata": {},
     "output_type": "display_data"
    },
    {
     "data": {
      "image/png": "[encoded data removed]",
      "text/plain": [
       "<Figure size 432x288 with 1 Axes>"
      ]
     },
     "metadata": {},
     "output_type": "display_data"
    }
   ],
   "source": [
    "def smooth_curve(points, factor=0.8):\n",
    "    smoothed_points = []\n",
    "    for point in points:\n",
    "        if smoothed_points:\n",
    "            previous = smoothed_points[-1]\n",
    "            smoothed_points.append(previous * factor + point * (1 - factor))\n",
    "        else:\n",
    "              smoothed_points.append(point)\n",
    "    return smoothed_points\n",
    "\n",
    "plt.plot(epochs, smooth_curve(acc), 'bo', label='Smoothed training acc')\n",
    "plt.plot(epochs, smooth_curve(val_acc), 'b', label='Smoothed validation acc')\n",
    "plt.title('Training and validation accuracy')\n",
    "plt.legend()\n",
    "\n",
    "plt.figure()\n",
    "\n",
    "plt.plot(epochs, smooth_curve(loss), 'bo', label='Smoothed training loss')\n",
    "plt.plot(epochs, smooth_curve(val_loss), 'b', label='Smoothed validation loss')\n",
    "plt.title('Training and validation loss')\n",
    "plt.legend()\n",
    "\n",
    "plt.show()"
   ]
  },
  {
   "cell_type": "code",
   "execution_count": 30,
   "metadata": {},
   "outputs": [
    {
     "name": "stdout",
     "output_type": "stream",
     "text": [
      "Found 372 images belonging to 5 classes.\n",
      "test acc: 0.9072164946917406\n"
     ]
    }
   ],
   "source": [
    "#Evaluate model\n",
    "test_generator = test_datagen.flow_from_directory(\n",
    "        test_dir,\n",
    "        target_size=(224, 224),\n",
    "        batch_size=32,\n",
    "        class_mode='categorical')\n",
    "test_loss, test_acc = model.evaluate_generator(test_generator, steps=50)\n",
    "print('test acc:', test_acc)"
   ]
  },
  {
   "cell_type": "code",
   "execution_count": 31,
   "metadata": {
    "collapsed": true
   },
   "outputs": [],
   "source": [
    "model.save('vgg16_3.h5')"
   ]
  }
 ],
 "metadata": {
  "kernelspec": {
   "display_name": "Python 3",
   "language": "python",
   "name": "python3"
  },
  "language_info": {
   "codemirror_mode": {
    "name": "ipython",
    "version": 3
   },
   "file_extension": ".py",
   "mimetype": "text/x-python",
   "name": "python",
   "nbconvert_exporter": "python",
   "pygments_lexer": "ipython3",
   "version": "3.6.2"
  }
 },
 "nbformat": 4,
 "nbformat_minor": 2
}
